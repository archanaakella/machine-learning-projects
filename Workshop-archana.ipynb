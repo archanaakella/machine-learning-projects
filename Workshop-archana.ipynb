{
 "cells": [
  {
   "cell_type": "code",
   "execution_count": 4,
   "id": "fda38f29",
   "metadata": {},
   "outputs": [
    {
     "name": "stdout",
     "output_type": "stream",
     "text": [
      "floor division=  0\n"
     ]
    }
   ],
   "source": [
    "#floor division\n",
    "a=2\n",
    "b=4\n",
    "print(\"floor division= \",a//b)"
   ]
  },
  {
   "cell_type": "code",
   "execution_count": 5,
   "id": "d3bd36b4",
   "metadata": {},
   "outputs": [
    {
     "name": "stdout",
     "output_type": "stream",
     "text": [
      "add is  7\n",
      "sub is  -1\n",
      "mul is  12\n",
      "div is  0.75\n",
      "mod is  3\n"
     ]
    }
   ],
   "source": [
    "a=3\n",
    "b=4\n",
    "print(\"add is \",a+b)\n",
    "print(\"sub is \",a-b)\n",
    "print(\"mul is \",a*b)\n",
    "print(\"div is \",a/b)\n",
    "print(\"mod is \",a%b)"
   ]
  },
  {
   "cell_type": "code",
   "execution_count": 8,
   "id": "a56bda5d",
   "metadata": {},
   "outputs": [
    {
     "name": "stdout",
     "output_type": "stream",
     "text": [
      "area of triangle=  126\n"
     ]
    }
   ],
   "source": [
    "base=9\n",
    "height=14\n",
    "area=(base*height)\n",
    "print(\"area of triangle= \",area)"
   ]
  },
  {
   "cell_type": "code",
   "execution_count": 9,
   "id": "51649f0e",
   "metadata": {},
   "outputs": [
    {
     "name": "stdout",
     "output_type": "stream",
     "text": [
      "area of rec is  2420\n"
     ]
    }
   ],
   "source": [
    "l=44\n",
    "b=55\n",
    "area=l*b\n",
    "print(\"area of rec is \",area)"
   ]
  },
  {
   "cell_type": "code",
   "execution_count": 12,
   "id": "20586cff",
   "metadata": {},
   "outputs": [
    {
     "name": "stdout",
     "output_type": "stream",
     "text": [
      "True\n",
      "1.0\n",
      "1\n"
     ]
    }
   ],
   "source": [
    "a=1\n",
    "print(bool(a))\n",
    "print(float(a))\n",
    "print(str(a))"
   ]
  },
  {
   "cell_type": "code",
   "execution_count": 13,
   "id": "129bb1c9",
   "metadata": {},
   "outputs": [
    {
     "data": {
      "text/plain": [
       "8"
      ]
     },
     "execution_count": 13,
     "metadata": {},
     "output_type": "execute_result"
    }
   ],
   "source": [
    "#len function\n",
    "string=\"ABCDEFGH\"\n",
    "len(string)"
   ]
  },
  {
   "cell_type": "code",
   "execution_count": 14,
   "id": "857bf3be",
   "metadata": {},
   "outputs": [
    {
     "data": {
      "text/plain": [
       "'A'"
      ]
     },
     "execution_count": 14,
     "metadata": {},
     "output_type": "execute_result"
    }
   ],
   "source": [
    "#accessing first character\n",
    "string[0]"
   ]
  },
  {
   "cell_type": "code",
   "execution_count": 15,
   "id": "5d4fed14",
   "metadata": {},
   "outputs": [
    {
     "data": {
      "text/plain": [
       "'H'"
      ]
     },
     "execution_count": 15,
     "metadata": {},
     "output_type": "execute_result"
    }
   ],
   "source": [
    "#accessing last character\n",
    "string[-1]"
   ]
  },
  {
   "cell_type": "code",
   "execution_count": 19,
   "id": "6bff336e",
   "metadata": {},
   "outputs": [
    {
     "data": {
      "text/plain": [
       "'o'"
      ]
     },
     "execution_count": 19,
     "metadata": {},
     "output_type": "execute_result"
    }
   ],
   "source": [
    "string=\"hello\"\n",
    "string[0]\n",
    "string[4]"
   ]
  },
  {
   "cell_type": "code",
   "execution_count": 20,
   "id": "929e8ce2",
   "metadata": {},
   "outputs": [
    {
     "data": {
      "text/plain": [
       "9"
      ]
     },
     "execution_count": 20,
     "metadata": {},
     "output_type": "execute_result"
    }
   ],
   "source": [
    "string=\"archana  \"\n",
    "len(string)"
   ]
  },
  {
   "cell_type": "code",
   "execution_count": 22,
   "id": "fc6d1930",
   "metadata": {},
   "outputs": [
    {
     "data": {
      "text/plain": [
       "'ingh'"
      ]
     },
     "execution_count": 22,
     "metadata": {},
     "output_type": "execute_result"
    }
   ],
   "source": [
    "string=\"archanasingh\"\n",
    "string[-4:]"
   ]
  },
  {
   "cell_type": "code",
   "execution_count": 23,
   "id": "5b1c20d9",
   "metadata": {},
   "outputs": [
    {
     "data": {
      "text/plain": [
       "'singh'"
      ]
     },
     "execution_count": 23,
     "metadata": {},
     "output_type": "execute_result"
    }
   ],
   "source": [
    "string=\"archanasingh\"\n",
    "string[-5:]"
   ]
  },
  {
   "cell_type": "code",
   "execution_count": 24,
   "id": "49d319d5",
   "metadata": {},
   "outputs": [
    {
     "data": {
      "text/plain": [
       "'nasingh'"
      ]
     },
     "execution_count": 24,
     "metadata": {},
     "output_type": "execute_result"
    }
   ],
   "source": [
    "string=\"archanasingh\"\n",
    "string[5:]"
   ]
  },
  {
   "cell_type": "code",
   "execution_count": 26,
   "id": "a615f6c5",
   "metadata": {},
   "outputs": [
    {
     "data": {
      "text/plain": [
       "'archana'"
      ]
     },
     "execution_count": 26,
     "metadata": {},
     "output_type": "execute_result"
    }
   ],
   "source": [
    "string=\"archanasingh\"\n",
    "string[0:7]"
   ]
  },
  {
   "cell_type": "code",
   "execution_count": 27,
   "id": "b5a2ea19",
   "metadata": {},
   "outputs": [
    {
     "name": "stdout",
     "output_type": "stream",
     "text": [
      "ghijkl\n"
     ]
    }
   ],
   "source": [
    "string=\"ghijkl\"\n",
    "print(string)"
   ]
  },
  {
   "cell_type": "code",
   "execution_count": 29,
   "id": "b6db5b7d",
   "metadata": {},
   "outputs": [
    {
     "data": {
      "text/plain": [
       "'khushi'"
      ]
     },
     "execution_count": 29,
     "metadata": {},
     "output_type": "execute_result"
    }
   ],
   "source": [
    "string=\"khushisingh\"\n",
    "string[0:6]"
   ]
  },
  {
   "cell_type": "code",
   "execution_count": 30,
   "id": "ac00a6b7",
   "metadata": {},
   "outputs": [
    {
     "name": "stdout",
     "output_type": "stream",
     "text": [
      "i am 18years old\n"
     ]
    }
   ],
   "source": [
    "age=18\n",
    "print(\"i am \"+ str(age) + \"years old\")"
   ]
  },
  {
   "cell_type": "code",
   "execution_count": 31,
   "id": "a499f968",
   "metadata": {},
   "outputs": [
    {
     "name": "stdout",
     "output_type": "stream",
     "text": [
      "archanasingh is sundar sushil\n"
     ]
    }
   ],
   "source": [
    "#string concatination\n",
    "f_n=\"archanasingh\"\n",
    "l_n=\"is sundar sushil\"\n",
    "sen= f_n + \" \" + l_n\n",
    "print(sen)"
   ]
  },
  {
   "cell_type": "code",
   "execution_count": 32,
   "id": "04812d2f",
   "metadata": {},
   "outputs": [
    {
     "name": "stdout",
     "output_type": "stream",
     "text": [
      "5 girls \n",
      "5 boys in a class\n"
     ]
    }
   ],
   "source": [
    "batch=\"5 girls 5 boys in a class\"\n",
    "girls=batch[ :8]\n",
    "print(girls)\n",
    "\n",
    "print(batch[8: ])"
   ]
  },
  {
   "cell_type": "code",
   "execution_count": 34,
   "id": "9fc4fd43",
   "metadata": {},
   "outputs": [
    {
     "name": "stdout",
     "output_type": "stream",
     "text": [
      "khushi loves pizza\n"
     ]
    }
   ],
   "source": [
    "statement=\"khushi loves pizza\"\n",
    "sliced_statement=statement[0:18]\n",
    "print(sliced_statement)"
   ]
  },
  {
   "cell_type": "code",
   "execution_count": 39,
   "id": "1e3d7361",
   "metadata": {},
   "outputs": [
    {
     "name": "stdout",
     "output_type": "stream",
     "text": [
      "pizza\n"
     ]
    }
   ],
   "source": [
    "statement=\"khushi loves pizza\"\n",
    "sliced_statement=statement[-5:]\n",
    "print(sliced_statement)"
   ]
  },
  {
   "cell_type": "code",
   "execution_count": 40,
   "id": "7405ce42",
   "metadata": {},
   "outputs": [
    {
     "name": "stdout",
     "output_type": "stream",
     "text": [
      "loves\n"
     ]
    }
   ],
   "source": [
    "statement=\"khushi loves pizza\"\n",
    "sliced_statement=statement[-11:-6]\n",
    "print(sliced_statement)"
   ]
  },
  {
   "cell_type": "code",
   "execution_count": 41,
   "id": "48847fb7",
   "metadata": {},
   "outputs": [
    {
     "name": "stdout",
     "output_type": "stream",
     "text": [
      "2468\n"
     ]
    }
   ],
   "source": [
    "#slicing by specifing range\n",
    "nums=\"123456789\"\n",
    "even_nums=nums[1::2]\n",
    "print(even_nums)"
   ]
  },
  {
   "cell_type": "code",
   "execution_count": 42,
   "id": "fe878d8d",
   "metadata": {},
   "outputs": [
    {
     "name": "stdout",
     "output_type": "stream",
     "text": [
      "13579\n"
     ]
    }
   ],
   "source": [
    "odd_nums=nums[0::2]\n",
    "print(odd_nums)"
   ]
  },
  {
   "cell_type": "code",
   "execution_count": 43,
   "id": "e27ed481",
   "metadata": {},
   "outputs": [
    {
     "name": "stdout",
     "output_type": "stream",
     "text": [
      "khushisinghkhushisinghkhushisingh\n"
     ]
    }
   ],
   "source": [
    "name=\"khushisingh\"\n",
    "print(name*3)"
   ]
  },
  {
   "cell_type": "code",
   "execution_count": 44,
   "id": "fe4665aa",
   "metadata": {},
   "outputs": [
    {
     "name": "stdout",
     "output_type": "stream",
     "text": [
      "I AM UPPER CASE\n"
     ]
    }
   ],
   "source": [
    "#upper()\n",
    "small=\"i am upper case\"\n",
    "print(small.upper())"
   ]
  },
  {
   "cell_type": "code",
   "execution_count": 45,
   "id": "e53a84d9",
   "metadata": {},
   "outputs": [
    {
     "name": "stdout",
     "output_type": "stream",
     "text": [
      "i am lower cased\n"
     ]
    }
   ],
   "source": [
    "#lower()\n",
    "large= \"I AM LOWER CASED\"\n",
    "print(large.lower())"
   ]
  },
  {
   "cell_type": "code",
   "execution_count": 46,
   "id": "f2f04846",
   "metadata": {},
   "outputs": [
    {
     "name": "stdout",
     "output_type": "stream",
     "text": [
      "hey this is khushisingh\n"
     ]
    }
   ],
   "source": [
    "large=\"hey this is khushisingh\"\n",
    "print(large.lower())"
   ]
  },
  {
   "cell_type": "code",
   "execution_count": 48,
   "id": "07c0a036",
   "metadata": {},
   "outputs": [
    {
     "name": "stdout",
     "output_type": "stream",
     "text": [
      "khushi singh\n",
      "khushi singh\n"
     ]
    }
   ],
   "source": [
    "hi=\"khushi singh\"\n",
    "print(hi)\n",
    "print(hi.rstrip())"
   ]
  },
  {
   "cell_type": "code",
   "execution_count": 49,
   "id": "262d6cbd",
   "metadata": {},
   "outputs": [
    {
     "name": "stdout",
     "output_type": "stream",
     "text": [
      "6\n"
     ]
    }
   ],
   "source": [
    "increment=\"6%\"\n",
    "print(increment.rstrip(\"%\"))"
   ]
  },
  {
   "cell_type": "code",
   "execution_count": 52,
   "id": "b2eba79b",
   "metadata": {},
   "outputs": [
    {
     "name": "stdout",
     "output_type": "stream",
     "text": [
      "  hey how you doing\n",
      "hey how you doing\n"
     ]
    }
   ],
   "source": [
    "#lstrip()\n",
    "s=\"  hey how you doing\"\n",
    "print(s)\n",
    "print(s.lstrip())"
   ]
  },
  {
   "cell_type": "code",
   "execution_count": 53,
   "id": "c8d1c376",
   "metadata": {},
   "outputs": [
    {
     "name": "stdout",
     "output_type": "stream",
     "text": [
      " khushi singh\n",
      "khushi singh\n"
     ]
    }
   ],
   "source": [
    "h=\" khushi singh\"\n",
    "print(h)\n",
    "print(h.strip())"
   ]
  },
  {
   "cell_type": "code",
   "execution_count": 80,
   "id": "b9139cb6",
   "metadata": {
    "scrolled": true
   },
   "outputs": [
    {
     "name": "stdout",
     "output_type": "stream",
     "text": [
      "khushi singh using loves biryani\n",
      "khushi singh loves biryani\n"
     ]
    }
   ],
   "source": [
    "a=\"khushi\"\n",
    "b=\"singh\"\n",
    "c=\"loves biryani\"\n",
    "\n",
    "print(\"{} {} using {}\".format(a,b,c))\n",
    "print(a,b,c)"
   ]
  },
  {
   "cell_type": "code",
   "execution_count": 57,
   "id": "2fe71ad3",
   "metadata": {},
   "outputs": [
    {
     "name": "stdout",
     "output_type": "stream",
     "text": [
      "55555\n"
     ]
    }
   ],
   "source": [
    "b='#######55555*****'\n",
    "print(b.rstrip(\"*\").lstrip(\"#\"))"
   ]
  },
  {
   "cell_type": "code",
   "execution_count": 62,
   "id": "90874853",
   "metadata": {},
   "outputs": [
    {
     "name": "stdout",
     "output_type": "stream",
     "text": [
      "2\n",
      "2\n"
     ]
    }
   ],
   "source": [
    "#countmethod()\n",
    "k=\"myself khushi singh\"\n",
    "print(k.count('i'))\n",
    "print(k.count('i',5))"
   ]
  },
  {
   "cell_type": "code",
   "execution_count": 76,
   "id": "ead1b219",
   "metadata": {},
   "outputs": [],
   "source": [
    "age=18\n",
    "my_age=\"khushi is {} years old\".format(age)"
   ]
  },
  {
   "cell_type": "code",
   "execution_count": 77,
   "id": "18a77180",
   "metadata": {},
   "outputs": [
    {
     "data": {
      "text/plain": [
       "'khushi is 18 years old'"
      ]
     },
     "execution_count": 77,
     "metadata": {},
     "output_type": "execute_result"
    }
   ],
   "source": [
    "my_age"
   ]
  },
  {
   "cell_type": "code",
   "execution_count": 81,
   "id": "0b1689b3",
   "metadata": {},
   "outputs": [
    {
     "data": {
      "text/plain": [
       "('disco', 12, 4.5)"
      ]
     },
     "execution_count": 81,
     "metadata": {},
     "output_type": "execute_result"
    }
   ],
   "source": [
    "#tuples is an ordered sequences of mixed data types tuples are written comma separed elements with partensis\n",
    "t= (\"disco\",12,4.5)\n",
    "t"
   ]
  },
  {
   "cell_type": "code",
   "execution_count": 82,
   "id": "191c9a71",
   "metadata": {},
   "outputs": [
    {
     "data": {
      "text/plain": [
       "tuple"
      ]
     },
     "execution_count": 82,
     "metadata": {},
     "output_type": "execute_result"
    }
   ],
   "source": [
    "type(t)"
   ]
  },
  {
   "cell_type": "code",
   "execution_count": 84,
   "id": "b78752ce",
   "metadata": {},
   "outputs": [
    {
     "name": "stdout",
     "output_type": "stream",
     "text": [
      "(1, 2, 3, 4)\n"
     ]
    }
   ],
   "source": [
    "#without using parenthesis\n",
    "sample_tuple=1,2,3,4\n",
    "print(sample_tuple)"
   ]
  },
  {
   "cell_type": "code",
   "execution_count": 85,
   "id": "2d0120d2",
   "metadata": {},
   "outputs": [],
   "source": [
    "t1=(1)\n",
    "#not a tuple"
   ]
  },
  {
   "cell_type": "markdown",
   "id": "5fa87b55",
   "metadata": {},
   "source": [
    "t2=(1,2)\n",
    "type(t2)"
   ]
  },
  {
   "cell_type": "code",
   "execution_count": 86,
   "id": "f2388ea4",
   "metadata": {},
   "outputs": [
    {
     "data": {
      "text/plain": [
       "tuple"
      ]
     },
     "execution_count": 86,
     "metadata": {},
     "output_type": "execute_result"
    }
   ],
   "source": [
    "t2=(1,)\n",
    "type(t2)"
   ]
  },
  {
   "cell_type": "code",
   "execution_count": 88,
   "id": "56b717b0",
   "metadata": {},
   "outputs": [
    {
     "data": {
      "text/plain": [
       "('hyd', 1, 'jabalpur')"
      ]
     },
     "execution_count": 88,
     "metadata": {},
     "output_type": "execute_result"
    }
   ],
   "source": [
    "t=(\"hyd\",1,\"jabalpur\",2,3,4)\n",
    "t[0:3]"
   ]
  },
  {
   "cell_type": "code",
   "execution_count": 89,
   "id": "5ed4fe20",
   "metadata": {},
   "outputs": [
    {
     "data": {
      "text/plain": [
       "('this', 'is', 'session', 2, 'on', 'tuples')"
      ]
     },
     "execution_count": 89,
     "metadata": {},
     "output_type": "execute_result"
    }
   ],
   "source": [
    "#concatenating tuples\n",
    "tup1=(\"this\",\"is\",\"session\",2)\n",
    "tup2=(\"on\",\"tuples\")\n",
    "tup3=tup1+tup2\n",
    "tup3"
   ]
  },
  {
   "cell_type": "markdown",
   "id": "335db423",
   "metadata": {},
   "source": [
    "#sum()-min()-max()"
   ]
  },
  {
   "cell_type": "code",
   "execution_count": 90,
   "id": "e43aaa0e",
   "metadata": {},
   "outputs": [
    {
     "data": {
      "text/plain": [
       "21"
      ]
     },
     "execution_count": 90,
     "metadata": {},
     "output_type": "execute_result"
    }
   ],
   "source": [
    "t=(2,4,3,5,7)\n",
    "sum(t)"
   ]
  },
  {
   "cell_type": "code",
   "execution_count": 91,
   "id": "9a478c5b",
   "metadata": {},
   "outputs": [
    {
     "data": {
      "text/plain": [
       "7"
      ]
     },
     "execution_count": 91,
     "metadata": {},
     "output_type": "execute_result"
    }
   ],
   "source": [
    "t=(2,4,3,5,7)\n",
    "max(t)"
   ]
  },
  {
   "cell_type": "code",
   "execution_count": 92,
   "id": "dd57d65f",
   "metadata": {},
   "outputs": [
    {
     "data": {
      "text/plain": [
       "2"
      ]
     },
     "execution_count": 92,
     "metadata": {},
     "output_type": "execute_result"
    }
   ],
   "source": [
    "t=(2,4,3,5,7)\n",
    "min(t)"
   ]
  },
  {
   "cell_type": "code",
   "execution_count": 95,
   "id": "20217881",
   "metadata": {},
   "outputs": [
    {
     "ename": "TypeError",
     "evalue": "'tuple' object does not support item assignment",
     "output_type": "error",
     "traceback": [
      "\u001b[1;31m---------------------------------------------------------------------------\u001b[0m",
      "\u001b[1;31mTypeError\u001b[0m                                 Traceback (most recent call last)",
      "Input \u001b[1;32mIn [95]\u001b[0m, in \u001b[0;36m<cell line: 3>\u001b[1;34m()\u001b[0m\n\u001b[0;32m      1\u001b[0m t\u001b[38;5;241m=\u001b[39m(\u001b[38;5;124m\"\u001b[39m\u001b[38;5;124mUSA\u001b[39m\u001b[38;5;124m\"\u001b[39m,\u001b[38;5;241m4\u001b[39m,\u001b[38;5;241m3\u001b[39m,\u001b[38;5;124m\"\u001b[39m\u001b[38;5;124mfun\u001b[39m\u001b[38;5;124m\"\u001b[39m,\u001b[38;5;241m7.5\u001b[39m)\n\u001b[1;32m----> 3\u001b[0m t[\u001b[38;5;241m3\u001b[39m]\u001b[38;5;241m=\u001b[39m\u001b[38;5;124m\"\u001b[39m\u001b[38;5;124mparatha\u001b[39m\u001b[38;5;124m\"\u001b[39m\n",
      "\u001b[1;31mTypeError\u001b[0m: 'tuple' object does not support item assignment"
     ]
    }
   ],
   "source": [
    "t=(\"USA\",4,3,\"fun\",7.5)\n",
    "\n",
    "t[3]=\"paratha\""
   ]
  },
  {
   "cell_type": "code",
   "execution_count": 97,
   "id": "409f71be",
   "metadata": {},
   "outputs": [
    {
     "data": {
      "text/plain": [
       "('USA', 4, 3, 'hard rock', 7.5)"
      ]
     },
     "execution_count": 97,
     "metadata": {},
     "output_type": "execute_result"
    }
   ],
   "source": [
    "new_t=t[0:3]+(\"hard rock\",)+t[4:]\n",
    "new_t"
   ]
  },
  {
   "cell_type": "code",
   "execution_count": 98,
   "id": "6061d0db",
   "metadata": {},
   "outputs": [
    {
     "data": {
      "text/plain": [
       "[2, 3, 4, 5, 6, 8]"
      ]
     },
     "execution_count": 98,
     "metadata": {},
     "output_type": "execute_result"
    }
   ],
   "source": [
    "t=(2,3,6,4,8,5)\n",
    "\n",
    "sorted(t)"
   ]
  },
  {
   "cell_type": "code",
   "execution_count": 99,
   "id": "64727c2a",
   "metadata": {},
   "outputs": [
    {
     "data": {
      "text/plain": [
       "'java'"
      ]
     },
     "execution_count": 99,
     "metadata": {},
     "output_type": "execute_result"
    }
   ],
   "source": [
    "#nested tuples\n",
    "t=(1,5,\"disco\",(\"python\",\"java\"))\n",
    "t[3][1]            #0        1"
   ]
  },
  {
   "cell_type": "code",
   "execution_count": 100,
   "id": "f2e18197",
   "metadata": {},
   "outputs": [
    {
     "data": {
      "text/plain": [
       "['sin', 23, 6, 'hyderabad']"
      ]
     },
     "execution_count": 100,
     "metadata": {},
     "output_type": "execute_result"
    }
   ],
   "source": [
    "l=[\"sin\",23,6,\"hyderabad\"]\n",
    "l"
   ]
  },
  {
   "cell_type": "code",
   "execution_count": 105,
   "id": "1a87e2ab",
   "metadata": {},
   "outputs": [
    {
     "name": "stdout",
     "output_type": "stream",
     "text": [
      "['sin', 'python', [1990, 2004], ('newton', 'singh')]\n"
     ]
    }
   ],
   "source": [
    "l=[\"sin\",\"java\",[1990,2004],(\"newton\",\"singh\")]\n",
    "l[1]=\"python\"\n",
    "print(l)"
   ]
  },
  {
   "cell_type": "code",
   "execution_count": 104,
   "id": "ddd61f70",
   "metadata": {},
   "outputs": [
    {
     "data": {
      "text/plain": [
       "['sin', 'java', [1990, 2004], ('newtons', 'khushi'), 5, 8]"
      ]
     },
     "execution_count": 104,
     "metadata": {},
     "output_type": "execute_result"
    }
   ],
   "source": [
    "#extend\n",
    "l=[\"sin\",\"java\",[1990,2004],(\"newtons\",\"khushi\")]\n",
    "l.extend([5,8])\n",
    "l\n"
   ]
  },
  {
   "cell_type": "code",
   "execution_count": 106,
   "id": "36435df5",
   "metadata": {},
   "outputs": [
    {
     "data": {
      "text/plain": [
       "['python', 'java', [2002, 2004], ('khushi', 'singh'), [5, 8]]"
      ]
     },
     "execution_count": 106,
     "metadata": {},
     "output_type": "execute_result"
    }
   ],
   "source": [
    "#append()\n",
    "\n",
    "l=[\"python\",\"java\",[2002,2004],(\"khushi\",\"singh\")]\n",
    "l.append([5,8])\n",
    "l"
   ]
  },
  {
   "cell_type": "code",
   "execution_count": 108,
   "id": "c0ad3884",
   "metadata": {},
   "outputs": [
    {
     "data": {
      "text/plain": [
       "['java', [2002, 2004], ('khushi', 'singh')]"
      ]
     },
     "execution_count": 108,
     "metadata": {},
     "output_type": "execute_result"
    }
   ],
   "source": [
    "#del commad\n",
    "l=[\"sin\",\"java\",[2002,2004],(\"khushi\",\"singh\")]\n",
    "del l[0]\n",
    "l"
   ]
  },
  {
   "cell_type": "code",
   "execution_count": 109,
   "id": "c89ce4ea",
   "metadata": {},
   "outputs": [
    {
     "data": {
      "text/plain": [
       "['sin', 'java', [2002, 2004]]"
      ]
     },
     "execution_count": 109,
     "metadata": {},
     "output_type": "execute_result"
    }
   ],
   "source": [
    "#pop()\n",
    "l=[\"sin\",\"java\",[2002,2004],(\"khushi\",\"singh\")]\n",
    "l.pop()\n",
    "l"
   ]
  },
  {
   "cell_type": "code",
   "execution_count": 110,
   "id": "d239ba63",
   "metadata": {},
   "outputs": [
    {
     "data": {
      "text/plain": [
       "['sin', [2002, 2004], ('khushi', 'singh')]"
      ]
     },
     "execution_count": 110,
     "metadata": {},
     "output_type": "execute_result"
    }
   ],
   "source": [
    "#remove()\n",
    "l=[\"sin\",\"java\",[2002,2004],(\"khushi\",\"singh\")]\n",
    "l.remove(\"java\")\n",
    "l"
   ]
  },
  {
   "cell_type": "code",
   "execution_count": null,
   "id": "33d47b17",
   "metadata": {},
   "outputs": [],
   "source": []
  },
  {
   "cell_type": "code",
   "execution_count": null,
   "id": "ea149edd",
   "metadata": {},
   "outputs": [],
   "source": []
  },
  {
   "cell_type": "code",
   "execution_count": null,
   "id": "1857df57",
   "metadata": {},
   "outputs": [],
   "source": []
  },
  {
   "cell_type": "code",
   "execution_count": null,
   "id": "4f8706cc",
   "metadata": {},
   "outputs": [],
   "source": []
  }
 ],
 "metadata": {
  "kernelspec": {
   "display_name": "Python 3 (ipykernel)",
   "language": "python",
   "name": "python3"
  },
  "language_info": {
   "codemirror_mode": {
    "name": "ipython",
    "version": 3
   },
   "file_extension": ".py",
   "mimetype": "text/x-python",
   "name": "python",
   "nbconvert_exporter": "python",
   "pygments_lexer": "ipython3",
   "version": "3.10.8"
  }
 },
 "nbformat": 4,
 "nbformat_minor": 5
}
